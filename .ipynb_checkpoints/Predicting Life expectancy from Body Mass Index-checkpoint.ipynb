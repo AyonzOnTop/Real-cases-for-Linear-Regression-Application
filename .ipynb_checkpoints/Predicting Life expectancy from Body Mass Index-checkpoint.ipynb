{
 "cells": [
  {
   "cell_type": "code",
   "execution_count": 18,
   "metadata": {},
   "outputs": [
    {
     "name": "stdout",
     "output_type": "stream",
     "text": [
      "0      Country Life expectancy       BMI\n",
      "1  Afghanistan            52.8  20.62058\n",
      "2      Albania            76.8  26.44657\n",
      "3      Algeria            75.5  24.59620\n",
      "4      Andorra            84.6  27.63048\n",
      "5       Angola            56.7  22.25083\n"
     ]
    }
   ],
   "source": [
    "# TODO: Add import statements\n",
    "import pandas as pd\n",
    "from sklearn.linear_model import LinearRegression\n",
    "# Assign the dataframe to this variable.\n",
    "# TODO: Load the data\n",
    "bmi_life_data = pd.read_csv(\"untitled.txt\", header = None)\n",
    "\n",
    "new_col_name = bmi_life_data.iloc[0]\n",
    "bmi_life_data = bmi_life_data[1:]\n",
    "bmi_life_data.columns = new_col_name\n",
    "\n",
    "\n",
    "print(bmi_life_data.head())\n",
    "# Make and fit the linear regression model\n",
    "#TODO: Fit the model and Assign it to bmi_life_model\n",
    "bmi_life_model = LinearRegression()\n",
    "bmi_life_model.fit(bmi_life_data[[\"BMI\"]],bmi_life_data[[\"Life expectancy\"]])\n",
    "\n",
    "# Make a prediction using the model\n",
    "# TODO: Predict life expectancy for a BMI value of 21.07931\n",
    "laos_life_exp = bmi_life_model.predict([[21.07931]])"
   ]
  },
  {
   "cell_type": "code",
   "execution_count": 19,
   "metadata": {},
   "outputs": [
    {
     "data": {
      "text/plain": [
       "array([[60.31564716]])"
      ]
     },
     "execution_count": 19,
     "metadata": {},
     "output_type": "execute_result"
    }
   ],
   "source": [
    "#Print life expectancy for a BMI of 21.07931\n",
    "laos_life_exp"
   ]
  },
  {
   "cell_type": "code",
   "execution_count": null,
   "metadata": {},
   "outputs": [],
   "source": []
  }
 ],
 "metadata": {
  "kernelspec": {
   "display_name": "Python 3",
   "language": "python",
   "name": "python3"
  },
  "language_info": {
   "codemirror_mode": {
    "name": "ipython",
    "version": 3
   },
   "file_extension": ".py",
   "mimetype": "text/x-python",
   "name": "python",
   "nbconvert_exporter": "python",
   "pygments_lexer": "ipython3",
   "version": "3.7.1"
  }
 },
 "nbformat": 4,
 "nbformat_minor": 2
}
